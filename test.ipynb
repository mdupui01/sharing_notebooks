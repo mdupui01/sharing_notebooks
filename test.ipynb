{
 "cells": [
  {
   "cell_type": "markdown",
   "metadata": {},
   "source": [
    "# Github notebook example\n",
    "This is an example of a notebook that we're going to share via Github.\n",
    "\n",
    "Pros:\n",
    "* Free\n",
    "* Quick to do if you're already using Jupyter notebooks and Github (or a similar git management system)\n",
    "\n",
    "Cons:\n",
    "* It displays all the code, so not friendly for non-technical users\n",
    "* You can't change the order of cells or layouts, it's entirely linear\n",
    "* You can't create interactive reports\n",
    "* The person you share this with needs Github access"
   ]
  }
 ],
 "metadata": {
  "kernelspec": {
   "display_name": "Python 3",
   "language": "python",
   "name": "python3"
  },
  "language_info": {
   "codemirror_mode": {
    "name": "ipython",
    "version": 3
   },
   "file_extension": ".py",
   "mimetype": "text/x-python",
   "name": "python",
   "nbconvert_exporter": "python",
   "pygments_lexer": "ipython3",
   "version": "3.9.6"
  }
 },
 "nbformat": 4,
 "nbformat_minor": 2
}
