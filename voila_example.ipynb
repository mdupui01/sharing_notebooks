{
 "cells": [
  {
   "cell_type": "code",
   "execution_count": 6,
   "metadata": {},
   "outputs": [
    {
     "data": {
      "application/vnd.jupyter.widget-view+json": {
       "model_id": "96dd55dbda0e402d8e42cb80e1b1bd05",
       "version_major": 2,
       "version_minor": 0
      },
      "text/plain": [
       "VBox(children=(Dropdown(description='Metric:', options=('Sales', 'Profit'), value='Sales'), FigureWidget({\n",
       "   …"
      ]
     },
     "metadata": {},
     "output_type": "display_data"
    }
   ],
   "source": [
    "# Import required libraries\n",
    "import pandas as pd\n",
    "import plotly.graph_objects as go\n",
    "from ipywidgets import widgets, VBox\n",
    "from IPython.display import display\n",
    "\n",
    "# Sample data\n",
    "data = {\n",
    "    'Year': [2018, 2019, 2020, 2021, 2022],\n",
    "    'Sales': [500, 700, 800, 1200, 1500],\n",
    "    'Profit': [200, 300, 400, 600, 800]\n",
    "}\n",
    "df = pd.DataFrame(data)\n",
    "\n",
    "# Create the initial plot as a FigureWidget\n",
    "fig = go.FigureWidget()\n",
    "\n",
    "# Function to update the plot\n",
    "def update_plot(column):\n",
    "    with fig.batch_update():\n",
    "        fig.data[0].y = df[column]\n",
    "        fig.data[0].name = column\n",
    "        fig.layout.yaxis.title = column\n",
    "        fig.layout.title = f\"{column} Over Years\"\n",
    "\n",
    "# Set up the initial trace\n",
    "fig.add_trace(go.Scatter(\n",
    "    x=df['Year'], \n",
    "    y=df['Sales'], \n",
    "    mode='lines+markers',\n",
    "    name='Sales'\n",
    "))\n",
    "fig.update_layout(\n",
    "    title=\"Sales Over Years\",\n",
    "    xaxis_title=\"Year\",\n",
    "    yaxis_title=\"Sales\",\n",
    "    template=\"plotly_white\"\n",
    ")\n",
    "\n",
    "# Dropdown widget\n",
    "dropdown = widgets.Dropdown(\n",
    "    options=['Sales', 'Profit'],\n",
    "    value='Sales',\n",
    "    description='Metric:',\n",
    ")\n",
    "\n",
    "# Attach a callback to the dropdown\n",
    "def dropdown_change(change):\n",
    "    update_plot(change['new'])\n",
    "\n",
    "dropdown.observe(dropdown_change, names='value')\n",
    "\n",
    "# Display the dropdown and the plot\n",
    "display(VBox([dropdown, fig]))\n"
   ]
  }
 ],
 "metadata": {
  "kernelspec": {
   "display_name": "Python 3",
   "language": "python",
   "name": "python3"
  },
  "language_info": {
   "codemirror_mode": {
    "name": "ipython",
    "version": 3
   },
   "file_extension": ".py",
   "mimetype": "text/x-python",
   "name": "python",
   "nbconvert_exporter": "python",
   "pygments_lexer": "ipython3",
   "version": "3.9.6"
  }
 },
 "nbformat": 4,
 "nbformat_minor": 2
}
